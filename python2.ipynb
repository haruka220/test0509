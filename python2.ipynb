{
 "cells": [
  {
   "cell_type": "code",
   "execution_count": null,
   "metadata": {
    "collapsed": false
   },
   "outputs": [],
   "source": [
    "#Q1___1~100の範囲で素数を求めるプログラムを作って\n",
    "\n",
    "\n",
    "\n",
    "#素数とは1 より大きい自然数で、正の約数が 1 と自分自身のみであるもののことである。\n",
    "#正の約数の個数が 2 である自然数と言い換えることもできる。\n",
    "\n"
   ]
  },
  {
   "cell_type": "code",
   "execution_count": null,
   "metadata": {
    "collapsed": true
   },
   "outputs": [],
   "source": [
    "#pythonの2回目の授業\n",
    "#関数を定義する"
   ]
  },
  {
   "cell_type": "code",
   "execution_count": null,
   "metadata": {
    "collapsed": false
   },
   "outputs": [],
   "source": [
    "#与えた数字の二乗を返す関数\n",
    "\n",
    "\n",
    "#四則計算の結果を返す関数\n",
    "\n",
    "#Hello, xxxとプリントする関数\n"
   ]
  },
  {
   "cell_type": "code",
   "execution_count": null,
   "metadata": {
    "collapsed": false
   },
   "outputs": [],
   "source": [
    "def square(x):\n",
    "    return x * x\n",
    "\n",
    "x = 5\n",
    "print(x)\n",
    "\n",
    "print(square(10))#←この結果はどうなる？？？\n",
    "print(x)\n",
    "\n",
    "#x=5はグローバル変数\n",
    "#代入した10はローカル変数\n",
    "#pythonは変数値を求めるとき、ローカル変数あればその値、なければグローバル変数を使う\n",
    "\n",
    "y = 10\n",
    "x = 5\n",
    "def glo_lo(x):\n",
    "    "
   ]
  },
  {
   "cell_type": "code",
   "execution_count": null,
   "metadata": {
    "collapsed": true
   },
   "outputs": [],
   "source": []
  },
  {
   "cell_type": "code",
   "execution_count": null,
   "metadata": {
    "collapsed": false
   },
   "outputs": [],
   "source": [
    "#デフォルト引数\n",
    "def foo(a,b,c=100):\n",
    "    print(a,b,c)\n",
    "\n"
   ]
  },
  {
   "cell_type": "code",
   "execution_count": null,
   "metadata": {
    "collapsed": false
   },
   "outputs": [],
   "source": [
    "#辞書と関数\n",
    "dic1 = {'a':10, 'b':20, 'c':30}\n",
    "\n",
    "def foo(a,b,c):\n",
    "    print(a)\n",
    "    print(b)\n",
    "    print(c)\n",
    "\n",
    "#辞書を展開して引数に分割\n",
    "\n",
    "#リストを分割して引数へ\n",
    "\n",
    "print(\"--------------------------------------\")\n",
    "#可変個の変数\n",
    "\n"
   ]
  },
  {
   "cell_type": "code",
   "execution_count": null,
   "metadata": {
    "collapsed": false
   },
   "outputs": [],
   "source": [
    "#データの探索\n",
    "#データの探索とは、あるデータの中から特定のデータを見つける処理\n",
    "\n",
    "list1 = [1,2,3,4,5,6,7,8]\n",
    "\n",
    "#線形探査\n",
    "#先頭から順番にデータを比較していく方法\n",
    "def find(n, data):\n",
    "    for i in data:\n",
    "        if i == n:\n",
    "            return True\n",
    "    return False\n",
    "\n",
    "print(find(5, list1))\n",
    "#find関数はprint(5 in list1)と同じ動作が行われている\n",
    "\n",
    "\n",
    "#Q2___線形探査の考えを用いてnの出現個数を求める(関数を作成)\n",
    "#countっていう便利な関数があるけど使用禁止\n",
    "#data[1,2,2,3,2,1,4,5]ならn=2なら3を出力\n",
    "def find_count(n,data):\n",
    "    \n",
    "    "
   ]
  },
  {
   "cell_type": "code",
   "execution_count": null,
   "metadata": {
    "collapsed": false
   },
   "outputs": [],
   "source": [
    "#二分探査\n",
    "#データは昇順じゃないといけない\n",
    "\n",
    "a = [11, 22, 33, 44, 55, 66, 77, 88, 99]\n",
    "def bsearch(x, ls):\n",
    "    low = 0\n",
    "    high = len(ls) - 1\n",
    "    while low <= high:\n",
    "        middle = int((low + high) / 2)\n",
    "        if x == ls[middle]:\n",
    "            return True\n",
    "        elif x > ls[middle]:\n",
    "            low = middle + 1\n",
    "        else:\n",
    "            high = middle - 1\n",
    "    return False\n",
    "\n",
    "print(bsearch(44,a))\n",
    "print(bsearch(40,a))"
   ]
  },
  {
   "cell_type": "code",
   "execution_count": null,
   "metadata": {
    "collapsed": false
   },
   "outputs": [],
   "source": []
  },
  {
   "cell_type": "code",
   "execution_count": null,
   "metadata": {
    "collapsed": true
   },
   "outputs": [],
   "source": [
    "#ファイル入力出力"
   ]
  },
  {
   "cell_type": "code",
   "execution_count": null,
   "metadata": {
    "collapsed": true
   },
   "outputs": [],
   "source": [
    "#ファイルの出力\n"
   ]
  },
  {
   "cell_type": "code",
   "execution_count": null,
   "metadata": {
    "collapsed": true
   },
   "outputs": [],
   "source": [
    "#ファイルを読み込む\n"
   ]
  },
  {
   "cell_type": "code",
   "execution_count": null,
   "metadata": {
    "collapsed": true
   },
   "outputs": [],
   "source": [
    "with open(\"abc.txt\", \"r\") as hara:\n",
    "    for i in hara:\n",
    "        print(i)\n",
    "#こっちの読み込み方だとcloseする必要がない！"
   ]
  },
  {
   "cell_type": "code",
   "execution_count": null,
   "metadata": {
    "collapsed": true
   },
   "outputs": [],
   "source": [
    "in_f = open(\"abc.txt\",\"r\")\n",
    "a = in_f.read() #全行読み込み\n",
    "b = in_f.readlines() #一行ずつリストで読み込み\n",
    "c = in_f.readline()　#一行のみ読み込み\n",
    "\n",
    "in_f.close()"
   ]
  },
  {
   "cell_type": "code",
   "execution_count": null,
   "metadata": {
    "collapsed": false
   },
   "outputs": [],
   "source": [
    "#Q3___以下の問題を解こう（PaizaランクC）\n",
    "\n",
    "'''\n",
    "あなたは小学校一年生の先生です。今週の授業で、足し算と引き算を教えます。\n",
    "あなたは、足し算と引き算を用いた宿題を作る必要があり、そのためのプログラムを書くことにしました。 \n",
    "\n",
    "以下の手順で問題をランダム生成するプログラムはもうできているのですが、\n",
    "その答えを求めるプログラムはまだできていません。答えを求めるプログラムを書いてください。\n",
    "\n",
    "[問題生成の手順]\n",
    "\n",
    "1. 正しい式 a + b = c, あるいは a - b = c (a, b, c, は整数) を生成する\n",
    "2. a, b, c のうちいずれか 1 つを空欄にする\n",
    "\n",
    "この空欄に入れるべき整数が「答え」となります。\n",
    "\n",
    "ここに、足し算、引き算の問題について例を一つずつ示します。\n",
    "'''\n",
    "\n",
    "'''\n",
    "入力は以下のフォーマットで与えられる．\n",
    "a op b = c\n",
    "\n",
    "すべてのテストケースで以下の条件を満たします。\n",
    "\n",
    "・a, b, c は \"x\", \"0\", \"1\", ..., \"9\" のうちいずれか\n",
    "・op は \"+\", \"-\" のうちいずれか\n",
    "・a, b, c のうち必ずただ 1 つだけ \"x\" となる\n",
    "・0 ≦ (問題の答え) ≦ 9\n",
    "'''\n",
    "\n",
    "'''\n",
    "ex)\n",
    "入力　1 + 3 = x\n",
    "出力　4\n",
    "\n",
    "入力　6 - x = 3\n",
    "出力　3\n",
    "\n",
    "入力　x - 1 = 5\n",
    "出力　6\n",
    "\n",
    "\n",
    "'''\n",
    "#わからない操作は各自ググる\n",
    "#入力操作\n",
    "\n",
    "print(\"入力は: a op b = c\")"
   ]
  },
  {
   "cell_type": "code",
   "execution_count": null,
   "metadata": {
    "collapsed": true
   },
   "outputs": [],
   "source": [
    "inpt = str(input())"
   ]
  },
  {
   "cell_type": "code",
   "execution_count": null,
   "metadata": {
    "collapsed": true
   },
   "outputs": [],
   "source": [
    "inpt.split(\" \")"
   ]
  }
 ],
 "metadata": {
  "kernelspec": {
   "display_name": "Python 3",
   "language": "python",
   "name": "python3"
  },
  "language_info": {
   "codemirror_mode": {
    "name": "ipython",
    "version": 3
   },
   "file_extension": ".py",
   "mimetype": "text/x-python",
   "name": "python",
   "nbconvert_exporter": "python",
   "pygments_lexer": "ipython3",
   "version": "3.6.0"
  }
 },
 "nbformat": 4,
 "nbformat_minor": 0
}
